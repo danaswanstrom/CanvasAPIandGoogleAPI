{
 "cells": [
  {
   "cell_type": "code",
   "execution_count": 1,
   "metadata": {
    "collapsed": false
   },
   "outputs": [],
   "source": [
    "\n",
    "import gspread\n",
    "import pandas as pd\n",
    "from oauth2client.client import SignedJwtAssertionCredentials\n",
    "import config\n",
    "import json\n",
    "import numpy as np\n",
    "import canvas_api\n",
    "import google_connect\n",
    "\n",
    "\n",
    "import csv_creation\n",
    "import canvas_api\n",
    "import CreateLookupDataframes\n"
   ]
  },
  {
   "cell_type": "code",
   "execution_count": 2,
   "metadata": {
    "collapsed": false
   },
   "outputs": [
    {
     "data": {
      "text/html": [
       "<div>\n",
       "<table border=\"1\" class=\"dataframe\">\n",
       "  <thead>\n",
       "    <tr style=\"text-align: right;\">\n",
       "      <th></th>\n",
       "      <th>course_id</th>\n",
       "      <th>long_name</th>\n",
       "      <th>short_name</th>\n",
       "      <th>account_id</th>\n",
       "      <th>status</th>\n",
       "    </tr>\n",
       "  </thead>\n",
       "  <tbody>\n",
       "    <tr>\n",
       "      <th>0</th>\n",
       "      <td>Team-H-Delong</td>\n",
       "      <td>Team-H-Delong</td>\n",
       "      <td>Team-H-Delong</td>\n",
       "      <td>317</td>\n",
       "      <td>active</td>\n",
       "    </tr>\n",
       "  </tbody>\n",
       "</table>\n",
       "</div>"
      ],
      "text/plain": [
       "       course_id      long_name     short_name  account_id  status\n",
       "0  Team-H-Delong  Team-H-Delong  Team-H-Delong         317  active"
      ]
     },
     "execution_count": 2,
     "metadata": {},
     "output_type": "execute_result"
    }
   ],
   "source": [
    "#Vertical Course Creation\n",
    "#Test passed\n",
    "coursesV = csv_creation.coursesVertDF('Import2Canvas317 V Delong', 317)\n",
    "coursesV.head()"
   ]
  },
  {
   "cell_type": "code",
   "execution_count": null,
   "metadata": {
    "collapsed": false
   },
   "outputs": [],
   "source": [
    "#Vertical Enrollment Creation\n",
    "#Test passed\n",
    "enrollmentsV = csv_creation.enrollmentsVertDF('Import2Canvas317 V Delong')\n",
    "enrollmentsV.head()"
   ]
  },
  {
   "cell_type": "code",
   "execution_count": null,
   "metadata": {
    "collapsed": false
   },
   "outputs": [],
   "source": [
    "#Horizontal Enrollment\n",
    "#Test does not pass. Runs, but has rows of unknowns in ti\n",
    "enrollmentsH = csv_creation.enrollmentsDF('Import2Canvas317 H Delong')\n",
    "enrollmentsH.head(15)"
   ]
  },
  {
   "cell_type": "code",
   "execution_count": null,
   "metadata": {
    "collapsed": false
   },
   "outputs": [],
   "source": [
    "#Horizontal Courses\n",
    "#Test Passed\n",
    "coursesH = csv_creation.coursesDF('Import2Canvas317 H Delong', 317)\n",
    "coursesH"
   ]
  },
  {
   "cell_type": "code",
   "execution_count": null,
   "metadata": {
    "collapsed": true
   },
   "outputs": [],
   "source": [
    "enrollmentsV.to_csv(config.csvExportLocation + \"enrollments.csv\", index=False, float_format='%.0f')"
   ]
  },
  {
   "cell_type": "code",
   "execution_count": null,
   "metadata": {
    "collapsed": false
   },
   "outputs": [],
   "source": [
    "coursesV.to_csv(config.csvExportLocation + \"courses.csv\", index=False, float_format='%.0f')"
   ]
  },
  {
   "cell_type": "code",
   "execution_count": null,
   "metadata": {
    "collapsed": false
   },
   "outputs": [],
   "source": [
    "subAccountNumber = 13\n",
    "import zipfile\n",
    "zipfile.ZipFile('{}canvasUpload-{}.zip'.format(config.csvExportLocation,subAccountNumber))"
   ]
  },
  {
   "cell_type": "code",
   "execution_count": null,
   "metadata": {
    "collapsed": false
   },
   "outputs": [],
   "source": [
    "from os.path import basename\n",
    "subAccountNumber = 13\n",
    "basename('{}canvasUpload-{}.zip'.format(config.csvExportLocation,subAccountNumber))"
   ]
  },
  {
   "cell_type": "code",
   "execution_count": 4,
   "metadata": {
    "collapsed": false
   },
   "outputs": [
    {
     "name": "stdout",
     "output_type": "stream",
     "text": [
      "Zip file created\n"
     ]
    }
   ],
   "source": [
    "canvas_api.create_zip(1)"
   ]
  },
  {
   "cell_type": "code",
   "execution_count": 5,
   "metadata": {
    "collapsed": false
   },
   "outputs": [
    {
     "name": "stdout",
     "output_type": "stream",
     "text": [
      "{'batch_mode': None, 'ended_at': '2016-04-02T07:38:02Z', 'started_at': '2016-04-02T06:35:17Z', 'add_sis_stickiness': None, 'diffing_data_set_identifier': None, 'clear_sis_stickiness': None, 'override_sis_stickiness': None, 'data': {'counts': {'group_memberships': 0, 'enrollments': 128510, 'courses': 6249, 'users': 11712, 'accounts': 22, 'abstract_courses': 0, 'xlists': 0, 'groups': 0, 'terms': 7, 'grade_publishing_results': 0, 'sections': 6249}, 'import_type': 'instructure_csv', 'supplied_batches': ['account', 'term', 'course', 'section', 'user', 'enrollment']}, 'created_at': '2016-04-02T06:35:16Z', 'processing_warnings': [['StaffEnrollment.csv', 'User not found for enrollment (User ID: 71758, Course ID: , Section ID: 49858.0.01)'], ['StaffEnrollment.csv', 'User not found for enrollment (User ID: 71758, Course ID: , Section ID: 49858.0.02)'], ['StaffEnrollment.csv', 'User not found for enrollment (User ID: 71753, Course ID: , Section ID: 49860.0.01)'], ['StaffEnrollment.csv', 'User not found for enrollment (User ID: 71753, Course ID: , Section ID: 49860.0.02)'], ['StaffEnrollment.csv', 'User not found for enrollment (User ID: 71758, Course ID: , Section ID: 49862.0.01)'], ['StaffEnrollment.csv', 'User not found for enrollment (User ID: 71758, Course ID: , Section ID: 49862.0.02)'], ['StaffEnrollment.csv', 'User not found for enrollment (User ID: 71757, Course ID: , Section ID: 49864.0.02)'], ['StaffEnrollment.csv', 'User not found for enrollment (User ID: 71756, Course ID: , Section ID: 49866.0.01)'], ['StaffEnrollment.csv', 'User not found for enrollment (User ID: 71756, Course ID: , Section ID: 49866.0.02)'], ['StaffEnrollment.csv', 'User not found for enrollment (User ID: 71753, Course ID: , Section ID: 49869.0.01)'], ['StaffEnrollment.csv', 'User not found for enrollment (User ID: 71753, Course ID: , Section ID: 49869.0.02)'], ['StaffEnrollment.csv', 'User not found for enrollment (User ID: 71752, Course ID: , Section ID: 49871.0.01)'], ['StaffEnrollment.csv', 'User not found for enrollment (User ID: 71752, Course ID: , Section ID: 49871.0.02)'], ['StaffEnrollment.csv', 'User not found for enrollment (User ID: 86125, Course ID: , Section ID: 49881.0.01)'], ['StaffEnrollment.csv', 'User not found for enrollment (User ID: 86125, Course ID: , Section ID: 49881.0.02)'], ['StaffEnrollment.csv', 'User not found for enrollment (User ID: 71758, Course ID: , Section ID: 49885.0.01)'], ['StaffEnrollment.csv', 'User not found for enrollment (User ID: 71758, Course ID: , Section ID: 49885.0.02)'], ['StaffEnrollment.csv', 'User not found for enrollment (User ID: 71758, Course ID: , Section ID: 49885.0.03)'], ['StaffEnrollment.csv', 'User not found for enrollment (User ID: 71758, Course ID: , Section ID: 50868.0.01)'], ['StaffEnrollment.csv', 'User not found for enrollment (User ID: 71758, Course ID: , Section ID: 50869.0.01)'], ['StaffEnrollment.csv', 'User not found for enrollment (User ID: 71758, Course ID: , Section ID: 50872.0.01)'], ['StaffEnrollment.csv', 'User not found for enrollment (User ID: 71758, Course ID: , Section ID: 50873.0.01)'], ['StaffEnrollment.csv', 'User not found for enrollment (User ID: 71756, Course ID: , Section ID: 50874.0.01)'], ['StaffEnrollment.csv', 'User not found for enrollment (User ID: 71752, Course ID: , Section ID: 50876.0.01)'], ['StaffEnrollment.csv', 'User not found for enrollment (User ID: 71757, Course ID: , Section ID: 50881.0.01)'], ['StaffEnrollment.csv', 'User not found for enrollment (User ID: 71758, Course ID: , Section ID: 50893.0.01)'], ['StaffEnrollment.csv', 'User not found for enrollment (User ID: 71758, Course ID: , Section ID: 50894.0.01)'], ['StaffEnrollment.csv', 'User not found for enrollment (User ID: 71753, Course ID: , Section ID: 50898.0.01)'], ['StaffEnrollment.csv', 'User not found for enrollment (User ID: 71753, Course ID: , Section ID: 50900.0.01)'], ['StaffEnrollment.csv', 'User not found for enrollment (User ID: 71764, Course ID: , Section ID: 50909.0.01)'], ['StaffEnrollment.csv', 'User not found for enrollment (User ID: 96521, Course ID: , Section ID: 52301.0.03)'], ['StaffEnrollment.csv', 'User not found for enrollment (User ID: 96520, Course ID: , Section ID: 52301.0.06)'], ['StaffEnrollment.csv', 'User not found for enrollment (User ID: 72, Course ID: , Section ID: 52301.0.10)'], ['StaffEnrollment.csv', 'User not found for enrollment (User ID: 96521, Course ID: , Section ID: 52302.0.03)'], ['StaffEnrollment.csv', 'User not found for enrollment (User ID: 96520, Course ID: , Section ID: 52302.0.06)'], ['StaffEnrollment.csv', 'User not found for enrollment (User ID: 72, Course ID: , Section ID: 52302.0.10)'], ['StudentEnr.csv', 'An enrollment referenced a non-existent section 49960.0.01'], ['StudentEnr.csv', 'An enrollment referenced a non-existent section 51357.0.01'], ['StudentEnr.csv', 'An enrollment referenced a non-existent section 51357.0.01'], ['StudentEnr.csv', 'An enrollment referenced a non-existent section 52325.0.02'], ['StudentEnr.csv', 'An enrollment referenced a non-existent section 52325.0.02'], ['StudentEnr.csv', 'An enrollment referenced a non-existent section 52325.0.02'], ['StudentEnr.csv', 'An enrollment referenced a non-existent section 52325.0.02'], ['StudentEnr.csv', 'An enrollment referenced a non-existent section 52325.0.02'], ['StudentEnr.csv', 'An enrollment referenced a non-existent section 52325.0.02'], ['StudentEnr.csv', 'An enrollment referenced a non-existent section 52325.0.02'], ['StudentEnr.csv', 'An enrollment referenced a non-existent section 52325.0.02'], ['StudentEnr.csv', 'An enrollment referenced a non-existent section 52325.0.03'], ['StudentEnr.csv', 'An enrollment referenced a non-existent section 52325.0.03'], ['StudentEnr.csv', 'An enrollment referenced a non-existent section 52325.0.03'], ['StudentEnr.csv', 'An enrollment referenced a non-existent section 52325.0.03'], ['StudentEnr.csv', 'An enrollment referenced a non-existent section 52325.0.03'], ['StudentEnr.csv', 'An enrollment referenced a non-existent section 52325.0.03'], ['StudentEnr.csv', 'An enrollment referenced a non-existent section 52325.0.03'], ['StudentEnr.csv', 'An enrollment referenced a non-existent section 52325.0.03'], ['StudentEnr.csv', 'An enrollment referenced a non-existent section 52325.0.04'], ['StudentEnr.csv', 'An enrollment referenced a non-existent section 52325.0.04'], ['StudentEnr.csv', 'An enrollment referenced a non-existent section 52325.0.04'], ['StudentEnr.csv', 'An enrollment referenced a non-existent section 52325.0.04'], ['StudentEnr.csv', 'An enrollment referenced a non-existent section 52325.0.04'], ['StudentEnr.csv', 'An enrollment referenced a non-existent section 52325.0.04'], ['StudentEnr.csv', 'An enrollment referenced a non-existent section 52325.0.04'], ['StudentEnr.csv', 'An enrollment referenced a non-existent section 52325.0.04'], ['StudentEnr.csv', 'An enrollment referenced a non-existent section 52325.0.05'], ['StudentEnr.csv', 'An enrollment referenced a non-existent section 52325.0.05'], ['StudentEnr.csv', 'An enrollment referenced a non-existent section 52325.0.05'], ['StudentEnr.csv', 'An enrollment referenced a non-existent section 52325.0.05'], ['StudentEnr.csv', 'An enrollment referenced a non-existent section 52325.0.05'], ['StudentEnr.csv', 'An enrollment referenced a non-existent section 52325.0.05'], ['StudentEnr.csv', 'An enrollment referenced a non-existent section 52325.0.05'], ['StudentEnr.csv', 'An enrollment referenced a non-existent section 52325.0.05'], ['StudentEnr.csv', 'An enrollment referenced a non-existent section 52325.0.06'], ['StudentEnr.csv', 'An enrollment referenced a non-existent section 52325.0.06'], ['StudentEnr.csv', 'An enrollment referenced a non-existent section 52325.0.06'], ['StudentEnr.csv', 'An enrollment referenced a non-existent section 52325.0.06'], ['StudentEnr.csv', 'An enrollment referenced a non-existent section 52325.0.06'], ['StudentEnr.csv', 'An enrollment referenced a non-existent section 52325.0.06'], ['StudentEnr.csv', 'An enrollment referenced a non-existent section 52325.0.06'], ['StudentEnr.csv', 'An enrollment referenced a non-existent section 52325.0.06'], ['StudentEnr.csv', 'An enrollment referenced a non-existent section 52325.0.07'], ['StudentEnr.csv', 'An enrollment referenced a non-existent section 52325.0.07'], ['StudentEnr.csv', 'An enrollment referenced a non-existent section 52325.0.07'], ['StudentEnr.csv', 'An enrollment referenced a non-existent section 52325.0.07'], ['StudentEnr.csv', 'An enrollment referenced a non-existent section 52325.0.07'], ['StudentEnr.csv', 'An enrollment referenced a non-existent section 52325.0.07'], ['StudentEnr.csv', 'An enrollment referenced a non-existent section 52325.0.07'], ['StudentEnr.csv', 'An enrollment referenced a non-existent section 52325.0.07'], ['StudentEnr.csv', 'An enrollment referenced a non-existent section 52326.0.02'], ['StudentEnr.csv', 'An enrollment referenced a non-existent section 52326.0.02'], ['StudentEnr.csv', 'An enrollment referenced a non-existent section 52326.0.02'], ['StudentEnr.csv', 'An enrollment referenced a non-existent section 52326.0.02'], ['StudentEnr.csv', 'An enrollment referenced a non-existent section 52326.0.02'], ['StudentEnr.csv', 'An enrollment referenced a non-existent section 52326.0.02'], ['StudentEnr.csv', 'An enrollment referenced a non-existent section 52326.0.02'], ['StudentEnr.csv', 'An enrollment referenced a non-existent section 52326.0.02'], ['StudentEnr.csv', 'An enrollment referenced a non-existent section 52326.0.03'], ['StudentEnr.csv', 'An enrollment referenced a non-existent section 52326.0.03'], ['StudentEnr.csv', 'An enrollment referenced a non-existent section 52326.0.03'], ['StudentEnr.csv', 'An enrollment referenced a non-existent section 52326.0.03'], ['StudentEnr.csv', 'An enrollment referenced a non-existent section 52326.0.03'], ['StudentEnr.csv', 'An enrollment referenced a non-existent section 52326.0.03'], ['StudentEnr.csv', 'An enrollment referenced a non-existent section 52326.0.03'], ['StudentEnr.csv', 'An enrollment referenced a non-existent section 52326.0.03'], ['StudentEnr.csv', 'An enrollment referenced a non-existent section 52326.0.04'], ['StudentEnr.csv', 'An enrollment referenced a non-existent section 52326.0.04'], ['StudentEnr.csv', 'An enrollment referenced a non-existent section 52326.0.04'], ['StudentEnr.csv', 'An enrollment referenced a non-existent section 52326.0.04'], ['StudentEnr.csv', 'An enrollment referenced a non-existent section 52326.0.04'], ['StudentEnr.csv', 'An enrollment referenced a non-existent section 52326.0.04'], ['StudentEnr.csv', 'An enrollment referenced a non-existent section 52326.0.04'], ['StudentEnr.csv', 'An enrollment referenced a non-existent section 52326.0.04'], ['StudentEnr.csv', 'An enrollment referenced a non-existent section 52326.0.05'], ['StudentEnr.csv', 'An enrollment referenced a non-existent section 52326.0.05'], ['StudentEnr.csv', 'An enrollment referenced a non-existent section 52326.0.05'], ['StudentEnr.csv', 'An enrollment referenced a non-existent section 52326.0.05'], ['StudentEnr.csv', 'An enrollment referenced a non-existent section 52326.0.05'], ['StudentEnr.csv', 'An enrollment referenced a non-existent section 52326.0.05'], ['StudentEnr.csv', 'An enrollment referenced a non-existent section 52326.0.05'], ['StudentEnr.csv', 'An enrollment referenced a non-existent section 52326.0.05'], ['StudentEnr.csv', 'An enrollment referenced a non-existent section 52326.0.06'], ['StudentEnr.csv', 'An enrollment referenced a non-existent section 52326.0.06'], ['StudentEnr.csv', 'An enrollment referenced a non-existent section 52326.0.06'], ['StudentEnr.csv', 'An enrollment referenced a non-existent section 52326.0.06'], ['StudentEnr.csv', 'An enrollment referenced a non-existent section 52326.0.06'], ['StudentEnr.csv', 'An enrollment referenced a non-existent section 52326.0.06'], ['StudentEnr.csv', 'An enrollment referenced a non-existent section 52326.0.06'], ['StudentEnr.csv', 'An enrollment referenced a non-existent section 52326.0.06'], ['StudentEnr.csv', 'An enrollment referenced a non-existent section 52326.0.07'], ['StudentEnr.csv', 'An enrollment referenced a non-existent section 52326.0.07'], ['StudentEnr.csv', 'An enrollment referenced a non-existent section 52326.0.07'], ['StudentEnr.csv', 'An enrollment referenced a non-existent section 52326.0.07'], ['StudentEnr.csv', 'An enrollment referenced a non-existent section 52326.0.07'], ['StudentEnr.csv', 'An enrollment referenced a non-existent section 52326.0.07'], ['StudentEnr.csv', 'An enrollment referenced a non-existent section 52326.0.07'], ['StudentEnr.csv', 'An enrollment referenced a non-existent section 52326.0.07']], 'batch_mode_term_id': None, 'workflow_state': 'imported_with_messages', 'diffed_against_import_id': None, 'id': 314, 'progress': 100, 'updated_at': '2016-04-02T07:38:02Z'}\n",
      "Thats It\n"
     ]
    }
   ],
   "source": [
    "canvas_api.sis_import_status()"
   ]
  },
  {
   "cell_type": "code",
   "execution_count": null,
   "metadata": {
    "collapsed": true
   },
   "outputs": [],
   "source": []
  },
  {
   "cell_type": "code",
   "execution_count": null,
   "metadata": {
    "collapsed": true
   },
   "outputs": [],
   "source": []
  },
  {
   "cell_type": "code",
   "execution_count": null,
   "metadata": {
    "collapsed": true
   },
   "outputs": [],
   "source": []
  },
  {
   "cell_type": "code",
   "execution_count": null,
   "metadata": {
    "collapsed": true
   },
   "outputs": [],
   "source": []
  },
  {
   "cell_type": "code",
   "execution_count": null,
   "metadata": {
    "collapsed": true
   },
   "outputs": [],
   "source": []
  },
  {
   "cell_type": "code",
   "execution_count": null,
   "metadata": {
    "collapsed": true
   },
   "outputs": [],
   "source": []
  },
  {
   "cell_type": "code",
   "execution_count": null,
   "metadata": {
    "collapsed": true
   },
   "outputs": [],
   "source": []
  },
  {
   "cell_type": "code",
   "execution_count": null,
   "metadata": {
    "collapsed": true
   },
   "outputs": [],
   "source": []
  },
  {
   "cell_type": "code",
   "execution_count": null,
   "metadata": {
    "collapsed": true
   },
   "outputs": [],
   "source": []
  },
  {
   "cell_type": "code",
   "execution_count": null,
   "metadata": {
    "collapsed": true
   },
   "outputs": [],
   "source": []
  },
  {
   "cell_type": "code",
   "execution_count": null,
   "metadata": {
    "collapsed": true
   },
   "outputs": [],
   "source": []
  }
 ],
 "metadata": {
  "kernelspec": {
   "display_name": "Python 3",
   "language": "python",
   "name": "python3"
  },
  "language_info": {
   "codemirror_mode": {
    "name": "ipython",
    "version": 3
   },
   "file_extension": ".py",
   "mimetype": "text/x-python",
   "name": "python",
   "nbconvert_exporter": "python",
   "pygments_lexer": "ipython3",
   "version": "3.4.3"
  }
 },
 "nbformat": 4,
 "nbformat_minor": 0
}
