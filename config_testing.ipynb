{
 "cells": [
  {
   "cell_type": "code",
   "execution_count": 23,
   "metadata": {
    "collapsed": false
   },
   "outputs": [
    {
     "name": "stdout",
     "output_type": "stream",
     "text": [
      "Done\n"
     ]
    }
   ],
   "source": [
    "##Test Edits of csv_creation.py\n",
    "from google_connect import *\n",
    "from config import *\n",
    "from canvas_api import *\n",
    "import pandas as pd\n",
    "import numpy as np\n",
    "import json\n",
    "import csv\n",
    "\n",
    "def enrollmentsDF(workbookName):\n",
    "    \"\"\"\n",
    "    Inputs: Name of a Google Spreadsheet that has been shared with the account whose Oauth Credentials are used in this script.\n",
    "        \n",
    "    Variables needed for this function:\n",
    "    Global Variables:\n",
    "    lowercaseColumnNames: this contains a list of the column names from the imported Google spreadsheet where all letters are converted to lowercase\n",
    "    columnsEnrollmentCSV: list of the column names needed for the Canvas import\n",
    "    \n",
    "    Helper Functions:\n",
    "    importSheet()\n",
    "    \n",
    "    Returns: dataframe called enrollments\n",
    "    \n",
    "    \"\"\"\n",
    "    index = 0\n",
    "    importedGoogleSheet = importSheet(workbookName)\n",
    "    \n",
    "    lowercaseColumnNames = importedGoogleSheet.columns\n",
    "    #create an empty dataframe based on the required columns for a Canvas csv.\n",
    "    enrollments = pd.DataFrame(data=np.zeros((0,len(columnsEnrollmentCSV))), columns=columnsEnrollmentCSV)\n",
    "        \n",
    "    #For enrollments to be created for a course, the course must have a name given in the Google spreadsheet. \n",
    "    #Next line checks for blank course names.\n",
    "    while index < len(importedGoogleSheet.index) and importedGoogleSheet.course_name[index] != '':\n",
    "        #Three sections of code to add principals (which get added as teachers), teachers, and then students\n",
    "        #The range for each section is based on the number of columns in the original google sheet\n",
    "        #Each section has a loop that goes through possible column names that might be in the Google spreadsheet\n",
    "            #The first if determines if a column name exists in the Google spreadsheet.\n",
    "                #The second if checks to make sure that that row has a person in that column \n",
    "                #A new row is added to the enrollments dataframe if both conditions are met for the possible column names\n",
    "        \n",
    "        for x in range(1,len(importedGoogleSheet.columns)):\n",
    "            possibleColumnName = \"principal\" + str(x)\n",
    "            if possibleColumnName in lowercaseColumnNames:\n",
    "                             \n",
    "                try:\n",
    "                    \n",
    "                    sis_id = find_sis_user_id(importedGoogleSheet.loc[index,possibleColumnName])\n",
    "                    #sis_id = canvasStaffandStudentsIndexed.loc[importedGoogleSheet.loc[index,possibleColumnName],'user_id']\n",
    "                    enrollments = enrollments.append({'course_id':importedGoogleSheet.loc[index,\"course_id\"], 'user_id':sis_id,'role':'Teacher',  'status':'active'},ignore_index=True)\n",
    "                except: \n",
    "                    if importedGoogleSheet.loc[index,possibleColumnName] != '': \n",
    "                        enrollments = enrollments.append({'course_id':importedGoogleSheet.loc[index,\"course_id\"], 'user_id':999998,'role':'Student',  'status':'active'},ignore_index=True)\n",
    "        \n",
    "        for x in range(1,len(importedGoogleSheet.columns)):\n",
    "            possibleColumnName = \"teacher\" + str(x)\n",
    "            if possibleColumnName in lowercaseColumnNames:\n",
    "                try:\n",
    "                    sis_id = find_sis_user_id(importedGoogleSheet.loc[index,possibleColumnName])\n",
    "                    enrollments = enrollments.append({'course_id':importedGoogleSheet.loc[index,\"course_id\"], 'user_id':sis_id,'role':'Teacher',  'status':'active'},ignore_index=True)\n",
    "                except:\n",
    "                    if importedGoogleSheet.loc[index,possibleColumnName] != '':\n",
    "                        enrollments = enrollments.append({'course_id':importedGoogleSheet.loc[index,\"course_id\"], 'user_id':999998,'role':'Student',  'status':'active'},ignore_index=True)\n",
    "        \n",
    "        for x in range(1,len(importedGoogleSheet.columns)):\n",
    "            possibleColumnName = \"student\" + str(x)\n",
    "            if possibleColumnName in lowercaseColumnNames:\n",
    "                try:\n",
    "                    sis_id = find_sis_user_id(importedGoogleSheet.loc[index,possibleColumnName])\n",
    "                    enrollments = enrollments.append({'course_id':importedGoogleSheet.loc[index,\"course_id\"], 'user_id':sis_id,'role':'Student',  'status':'active'},ignore_index=True)\n",
    "                except:\n",
    "                    if importedGoogleSheet.loc[index,possibleColumnName] != '':\n",
    "                        enrollments = enrollments.append({'course_id':importedGoogleSheet.loc[index,\"course_id\"], 'user_id':999998,'role':'Student',  'status':'active'},ignore_index=True)\n",
    "        \n",
    "        #index counter takes us through each row of the dataframe\n",
    "        index +=1\n",
    "    \n",
    "    \n",
    "    return enrollments\n",
    "\n",
    "print(\"Done\")\n"
   ]
  },
  {
   "cell_type": "code",
   "execution_count": 24,
   "metadata": {
    "collapsed": false
   },
   "outputs": [
    {
     "name": "stdout",
     "output_type": "stream",
     "text": [
      "dswanstrom\n",
      "27351\n"
     ]
    },
    {
     "data": {
      "text/html": [
       "<div>\n",
       "<table border=\"1\" class=\"dataframe\">\n",
       "  <thead>\n",
       "    <tr style=\"text-align: right;\">\n",
       "      <th></th>\n",
       "      <th>course_id</th>\n",
       "      <th>user_id</th>\n",
       "      <th>role</th>\n",
       "      <th>status</th>\n",
       "    </tr>\n",
       "  </thead>\n",
       "  <tbody>\n",
       "    <tr>\n",
       "      <th>0</th>\n",
       "      <td>SHE-001</td>\n",
       "      <td>27351</td>\n",
       "      <td>Teacher</td>\n",
       "      <td>active</td>\n",
       "    </tr>\n",
       "    <tr>\n",
       "      <th>1</th>\n",
       "      <td>SHE-001</td>\n",
       "      <td>111563</td>\n",
       "      <td>Teacher</td>\n",
       "      <td>active</td>\n",
       "    </tr>\n",
       "    <tr>\n",
       "      <th>2</th>\n",
       "      <td>SHE-001</td>\n",
       "      <td>81190</td>\n",
       "      <td>Student</td>\n",
       "      <td>active</td>\n",
       "    </tr>\n",
       "    <tr>\n",
       "      <th>3</th>\n",
       "      <td>SHE-001</td>\n",
       "      <td>38679</td>\n",
       "      <td>Student</td>\n",
       "      <td>active</td>\n",
       "    </tr>\n",
       "    <tr>\n",
       "      <th>4</th>\n",
       "      <td>SHE-001</td>\n",
       "      <td>86463</td>\n",
       "      <td>Student</td>\n",
       "      <td>active</td>\n",
       "    </tr>\n",
       "    <tr>\n",
       "      <th>5</th>\n",
       "      <td>SHE-001</td>\n",
       "      <td>89524</td>\n",
       "      <td>Student</td>\n",
       "      <td>active</td>\n",
       "    </tr>\n",
       "    <tr>\n",
       "      <th>6</th>\n",
       "      <td>SHE-001</td>\n",
       "      <td>81502</td>\n",
       "      <td>Student</td>\n",
       "      <td>active</td>\n",
       "    </tr>\n",
       "    <tr>\n",
       "      <th>7</th>\n",
       "      <td>SHE-001</td>\n",
       "      <td>66566</td>\n",
       "      <td>Student</td>\n",
       "      <td>active</td>\n",
       "    </tr>\n",
       "    <tr>\n",
       "      <th>8</th>\n",
       "      <td>SHE-001</td>\n",
       "      <td>38527</td>\n",
       "      <td>Student</td>\n",
       "      <td>active</td>\n",
       "    </tr>\n",
       "    <tr>\n",
       "      <th>9</th>\n",
       "      <td>SHE-001</td>\n",
       "      <td>72724</td>\n",
       "      <td>Student</td>\n",
       "      <td>active</td>\n",
       "    </tr>\n",
       "    <tr>\n",
       "      <th>10</th>\n",
       "      <td>SHE-001</td>\n",
       "      <td>83110</td>\n",
       "      <td>Student</td>\n",
       "      <td>active</td>\n",
       "    </tr>\n",
       "    <tr>\n",
       "      <th>11</th>\n",
       "      <td>SHE-001</td>\n",
       "      <td>30829</td>\n",
       "      <td>Student</td>\n",
       "      <td>active</td>\n",
       "    </tr>\n",
       "    <tr>\n",
       "      <th>12</th>\n",
       "      <td>SHE-001</td>\n",
       "      <td>82044</td>\n",
       "      <td>Student</td>\n",
       "      <td>active</td>\n",
       "    </tr>\n",
       "  </tbody>\n",
       "</table>\n",
       "</div>"
      ],
      "text/plain": [
       "   course_id  user_id     role  status\n",
       "0    SHE-001    27351  Teacher  active\n",
       "1    SHE-001   111563  Teacher  active\n",
       "2    SHE-001    81190  Student  active\n",
       "3    SHE-001    38679  Student  active\n",
       "4    SHE-001    86463  Student  active\n",
       "5    SHE-001    89524  Student  active\n",
       "6    SHE-001    81502  Student  active\n",
       "7    SHE-001    66566  Student  active\n",
       "8    SHE-001    38527  Student  active\n",
       "9    SHE-001    72724  Student  active\n",
       "10   SHE-001    83110  Student  active\n",
       "11   SHE-001    30829  Student  active\n",
       "12   SHE-001    82044  Student  active"
      ]
     },
     "execution_count": 24,
     "metadata": {},
     "output_type": "execute_result"
    }
   ],
   "source": [
    "enrollmentsDF('Import2Canvas143 H Sherman')"
   ]
  },
  {
   "cell_type": "code",
   "execution_count": 22,
   "metadata": {
    "collapsed": false
   },
   "outputs": [
    {
     "data": {
      "text/plain": [
       "27351"
      ]
     },
     "execution_count": 22,
     "metadata": {},
     "output_type": "execute_result"
    }
   ],
   "source": [
    "index = 0 \n",
    "lowercaseColumnNames = importedGoogleSheet.columns\n",
    "importedGoogleSheet = importSheet('Import2Canvas143 H Sherman')\n",
    "importedGoogleSheet\n",
    "find_sis_user_id(importedGoogleSheet.loc[index,'principal1'])"
   ]
  },
  {
   "cell_type": "code",
   "execution_count": null,
   "metadata": {
    "collapsed": true
   },
   "outputs": [],
   "source": []
  },
  {
   "cell_type": "code",
   "execution_count": null,
   "metadata": {
    "collapsed": true
   },
   "outputs": [],
   "source": []
  },
  {
   "cell_type": "code",
   "execution_count": null,
   "metadata": {
    "collapsed": true
   },
   "outputs": [],
   "source": []
  },
  {
   "cell_type": "code",
   "execution_count": null,
   "metadata": {
    "collapsed": true
   },
   "outputs": [],
   "source": []
  },
  {
   "cell_type": "code",
   "execution_count": null,
   "metadata": {
    "collapsed": true
   },
   "outputs": [],
   "source": []
  },
  {
   "cell_type": "code",
   "execution_count": null,
   "metadata": {
    "collapsed": true
   },
   "outputs": [],
   "source": []
  },
  {
   "cell_type": "code",
   "execution_count": null,
   "metadata": {
    "collapsed": true
   },
   "outputs": [],
   "source": []
  },
  {
   "cell_type": "code",
   "execution_count": null,
   "metadata": {
    "collapsed": true
   },
   "outputs": [],
   "source": []
  },
  {
   "cell_type": "code",
   "execution_count": null,
   "metadata": {
    "collapsed": true
   },
   "outputs": [],
   "source": []
  },
  {
   "cell_type": "code",
   "execution_count": null,
   "metadata": {
    "collapsed": true
   },
   "outputs": [],
   "source": []
  },
  {
   "cell_type": "code",
   "execution_count": null,
   "metadata": {
    "collapsed": true
   },
   "outputs": [],
   "source": []
  },
  {
   "cell_type": "code",
   "execution_count": null,
   "metadata": {
    "collapsed": true
   },
   "outputs": [],
   "source": []
  },
  {
   "cell_type": "code",
   "execution_count": null,
   "metadata": {
    "collapsed": false
   },
   "outputs": [],
   "source": [
    "import run_canvas_import"
   ]
  },
  {
   "cell_type": "code",
   "execution_count": null,
   "metadata": {
    "collapsed": false
   },
   "outputs": [],
   "source": [
    "import run_all_Canvas_imports"
   ]
  },
  {
   "cell_type": "code",
   "execution_count": null,
   "metadata": {
    "collapsed": false
   },
   "outputs": [],
   "source": [
    "from canvas_api import *\n",
    "from config import *\n",
    "import json\n",
    "import zipfile\n",
    "find_sis_user_id(9195654)\n"
   ]
  },
  {
   "cell_type": "code",
   "execution_count": null,
   "metadata": {
    "collapsed": true
   },
   "outputs": [],
   "source": []
  },
  {
   "cell_type": "code",
   "execution_count": null,
   "metadata": {
    "collapsed": true
   },
   "outputs": [],
   "source": []
  },
  {
   "cell_type": "code",
   "execution_count": null,
   "metadata": {
    "collapsed": true
   },
   "outputs": [],
   "source": []
  },
  {
   "cell_type": "code",
   "execution_count": null,
   "metadata": {
    "collapsed": true
   },
   "outputs": [],
   "source": []
  },
  {
   "cell_type": "code",
   "execution_count": null,
   "metadata": {
    "collapsed": true
   },
   "outputs": [],
   "source": []
  },
  {
   "cell_type": "code",
   "execution_count": null,
   "metadata": {
    "collapsed": true
   },
   "outputs": [],
   "source": []
  },
  {
   "cell_type": "code",
   "execution_count": null,
   "metadata": {
    "collapsed": true
   },
   "outputs": [],
   "source": []
  },
  {
   "cell_type": "code",
   "execution_count": null,
   "metadata": {
    "collapsed": true
   },
   "outputs": [],
   "source": []
  },
  {
   "cell_type": "code",
   "execution_count": null,
   "metadata": {
    "collapsed": false
   },
   "outputs": [],
   "source": [
    "import zipfile\n",
    "canvasZipfile = zipfile.ZipFile('{csvExportLocation}courses.zip'.format(csvExportLocation = csvExportLocation), 'w')\n",
    "    \n",
    "canvasZipfile.write('{csvExportLocation}enrollments.csv'.format(csvExportLocation = csvExportLocation),\n",
    "                    'courses.zip', compress_type=zipfile.ZIP_DEFLATED)\n",
    "canvasZipfile.close()"
   ]
  },
  {
   "cell_type": "code",
   "execution_count": null,
   "metadata": {
    "collapsed": false
   },
   "outputs": [],
   "source": [
    "createZip()\n"
   ]
  },
  {
   "cell_type": "code",
   "execution_count": null,
   "metadata": {
    "collapsed": false
   },
   "outputs": [],
   "source": [
    "import zipfile\n",
    "import os\n",
    "fn = os.path.join(os.path.dirname(__file__), 'my_file')\n",
    "csvExportLocation = \"X:/Inbox/\"\n",
    "#canvasZipfile = zipfile.ZipFile('{csvExportLocation}courses.zip'.format(csvExportLocation = csvExportLocation), 'w')\n",
    "#canvasZipfile.write('{csvExportLocation}courses.csv'.format(csvExportLocation = csvExportLocation), compress_type=zipfile.ZIP_DEFLATED)\n",
    "canvasZipfile = zipfile.ZipFile('../CSVFiles/courses2.zip'.format(csvExportLocation = csvExportLocation), 'w')\n",
    "canvasZipfile.write('../CSVFiles/courses.csv', compress_type=zipfile.ZIP_DEFLATED)\n",
    "#canvasZipfile.write('enrollments.csv', compress_type=zipfile.ZIP_DEFLATED)\n",
    "\n",
    "canvasZipfile.close()"
   ]
  },
  {
   "cell_type": "code",
   "execution_count": null,
   "metadata": {
    "collapsed": true
   },
   "outputs": [],
   "source": [
    "canvasZipfile.close()"
   ]
  },
  {
   "cell_type": "code",
   "execution_count": null,
   "metadata": {
    "collapsed": false
   },
   "outputs": [],
   "source": [
    "       \n"
   ]
  },
  {
   "cell_type": "code",
   "execution_count": null,
   "metadata": {
    "collapsed": false
   },
   "outputs": [],
   "source": []
  },
  {
   "cell_type": "code",
   "execution_count": null,
   "metadata": {
    "collapsed": false
   },
   "outputs": [],
   "source": []
  },
  {
   "cell_type": "code",
   "execution_count": null,
   "metadata": {
    "collapsed": false
   },
   "outputs": [],
   "source": []
  },
  {
   "cell_type": "code",
   "execution_count": null,
   "metadata": {
    "collapsed": false
   },
   "outputs": [],
   "source": [
    "#config.py file\n",
    "\n",
    "import google_connect\n",
    "import csv_creation\n",
    "\n",
    "#Requires Python 3\n",
    "\n",
    "#You will need to obtain a Google Secrets file as a json file. Please place this in the Tokens folder.\n",
    "#It is best practice to use a service Google account\n",
    "#Directions on obtaining that file can be found at http://pbpython.com/pandas-google-forms-part1.html\n",
    "\n",
    "#These lines import some spreadsheets from Google that are imported from Skyward each day.\n",
    "#The imports first get a student list and then a staff list and then removed duplicates\n",
    "#The two dataframes are then combined into one so that any lookups of the student user_id can be made from one dataframe\n",
    "canvasStudentImport = importSheet(\"1801Student\")\n",
    "canvasStudentImport.drop_duplicates(inplace = True)\n",
    "canvasStudentIndexed = canvasStudentImport.set_index(['login_id'])\n",
    "\n",
    "canvasStaffImport = importSheet(\"1801Staff\")\n",
    "canvasStaffImport.drop_duplicates(inplace = True)\n",
    "canvasStaffIndexed = canvasStaffImport.set_index(['login_id'])\n",
    "\n",
    "\n",
    "\n",
    "canvasStaffandStudentsIndexed = pd.concat([canvasStudentIndexed, canvasStaffIndexed], axis=0)"
   ]
  }
 ],
 "metadata": {
  "kernelspec": {
   "display_name": "Python 3",
   "language": "python",
   "name": "python3"
  },
  "language_info": {
   "codemirror_mode": {
    "name": "ipython",
    "version": 3
   },
   "file_extension": ".py",
   "mimetype": "text/x-python",
   "name": "python",
   "nbconvert_exporter": "python",
   "pygments_lexer": "ipython3",
   "version": "3.4.3"
  }
 },
 "nbformat": 4,
 "nbformat_minor": 0
}
