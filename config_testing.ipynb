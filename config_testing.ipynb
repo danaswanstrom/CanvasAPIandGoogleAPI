{
 "cells": [
  {
   "cell_type": "code",
   "execution_count": 1,
   "metadata": {
    "collapsed": false
   },
   "outputs": [],
   "source": [
    "\n",
    "import gspread\n",
    "import pandas as pd\n",
    "from oauth2client.client import SignedJwtAssertionCredentials\n",
    "import config\n",
    "import json\n",
    "import numpy as np\n",
    "import canvas_api\n",
    "import google_connect\n",
    "\n",
    "\n",
    "import csv_creation\n",
    "import canvas_api\n",
    "import CreateLookupDataframes\n",
    "\n",
    "\n",
    "#import csv_creation\n",
    "#from google_connect import *\n",
    "#from config import *\n",
    "#from canvas_api import *\n",
    "#import pandas as pd\n",
    "#import numpy as np\n",
    "#import json\n",
    "#import csv"
   ]
  },
  {
   "cell_type": "code",
   "execution_count": 2,
   "metadata": {
    "collapsed": false
   },
   "outputs": [
    {
     "data": {
      "text/html": [
       "<div>\n",
       "<table border=\"1\" class=\"dataframe\">\n",
       "  <thead>\n",
       "    <tr style=\"text-align: right;\">\n",
       "      <th></th>\n",
       "      <th>course_id</th>\n",
       "      <th>long_name</th>\n",
       "      <th>short_name</th>\n",
       "      <th>account_id</th>\n",
       "      <th>status</th>\n",
       "    </tr>\n",
       "  </thead>\n",
       "  <tbody>\n",
       "    <tr>\n",
       "      <th>0</th>\n",
       "      <td>Course_Name</td>\n",
       "      <td>Team-H-Delong</td>\n",
       "      <td>Team-H-Delong</td>\n",
       "      <td>317</td>\n",
       "      <td>active</td>\n",
       "    </tr>\n",
       "  </tbody>\n",
       "</table>\n",
       "</div>"
      ],
      "text/plain": [
       "     course_id      long_name     short_name  account_id  status\n",
       "0  Course_Name  Team-H-Delong  Team-H-Delong         317  active"
      ]
     },
     "execution_count": 2,
     "metadata": {},
     "output_type": "execute_result"
    }
   ],
   "source": [
    "#Not tested yet.\n",
    "csv_creation.coursesDF('Import2Canvas317 V Delong', 317)"
   ]
  },
  {
   "cell_type": "code",
   "execution_count": 5,
   "metadata": {
    "collapsed": false
   },
   "outputs": [
    {
     "data": {
      "text/html": [
       "<div>\n",
       "<table border=\"1\" class=\"dataframe\">\n",
       "  <thead>\n",
       "    <tr style=\"text-align: right;\">\n",
       "      <th></th>\n",
       "      <th>course_id</th>\n",
       "      <th>user_id</th>\n",
       "      <th>role</th>\n",
       "      <th>status</th>\n",
       "    </tr>\n",
       "  </thead>\n",
       "  <tbody>\n",
       "  </tbody>\n",
       "</table>\n",
       "</div>"
      ],
      "text/plain": [
       "Empty DataFrame\n",
       "Columns: [course_id, user_id, role, status]\n",
       "Index: []"
      ]
     },
     "execution_count": 5,
     "metadata": {},
     "output_type": "execute_result"
    }
   ],
   "source": [
    "csv_creation.enrollmentsDF('Import2Canvas317 V Delong')"
   ]
  },
  {
   "cell_type": "code",
   "execution_count": null,
   "metadata": {
    "collapsed": true
   },
   "outputs": [],
   "source": []
  },
  {
   "cell_type": "code",
   "execution_count": null,
   "metadata": {
    "collapsed": true
   },
   "outputs": [],
   "source": []
  },
  {
   "cell_type": "code",
   "execution_count": null,
   "metadata": {
    "collapsed": false
   },
   "outputs": [],
   "source": [
    "google_connect.createListGoogleSheets()"
   ]
  },
  {
   "cell_type": "code",
   "execution_count": null,
   "metadata": {
    "collapsed": false
   },
   "outputs": [],
   "source": [
    "importedGoogleSheet = google_connect.importSheet('Import2Canvas317 V Delong')"
   ]
  },
  {
   "cell_type": "code",
   "execution_count": null,
   "metadata": {
    "collapsed": false
   },
   "outputs": [],
   "source": [
    "    #Next two lines make the columns names all lowercase\n",
    "lowercaseColumnNames = [x.lower() for x in importedGoogleSheet.columns.values]\n",
    "importedGoogleSheet.columns = lowercaseColumnNames\n",
    "    \n",
    "index = 0\n",
    "courses = google_connect.pd.DataFrame(data=np.zeros((0, len(canvas_api.columnsCoursesCSV))), columns=canvas_api.columnsCoursesCSV)\n",
    "while index < len(importedGoogleSheet.index) and importedGoogleSheet.course_name[index] != '':\n",
    " #   \n",
    "  #  \n",
    "   #  \n",
    "    #\n",
    "    index += 1"
   ]
  },
  {
   "cell_type": "code",
   "execution_count": null,
   "metadata": {
    "collapsed": false
   },
   "outputs": [],
   "source": [
    "lowercaseColumnNames = [x.lower() for x in importedGoogleSheet.columns.values]\n",
    "importedGoogleSheet.columns = lowercaseColumnNames\n"
   ]
  },
  {
   "cell_type": "code",
   "execution_count": null,
   "metadata": {
    "collapsed": false
   },
   "outputs": [],
   "source": [
    "canvas_api.columnsCoursesCSV"
   ]
  },
  {
   "cell_type": "code",
   "execution_count": null,
   "metadata": {
    "collapsed": false
   },
   "outputs": [],
   "source": [
    "index = 0\n",
    "accountID = 317\n",
    "courses = google_connect.pd.DataFrame(data=np.zeros((0, len(canvas_api.columnsCoursesCSV))), columns=canvas_api.columnsCoursesCSV)\n",
    "spreadsheet_length = len(importedGoogleSheet.index)\n",
    "while index < spreadsheet_length and importedGoogleSheet.course_name[index] != '':\n",
    "    courses = courses.append({'course_id':importedGoogleSheet.loc[index,\"course_id\"],\n",
    "                              'long_name':importedGoogleSheet.loc[index,\"course_name\"],\n",
    "                              'short_name':importedGoogleSheet.loc[index,\"course_name\"],\n",
    "                              'account_id':accountID, 'status':'active'},ignore_index=True)\n",
    "    index += 1"
   ]
  },
  {
   "cell_type": "code",
   "execution_count": null,
   "metadata": {
    "collapsed": false
   },
   "outputs": [],
   "source": [
    "index = 0\n",
    "while index < 10:\n",
    "    index += 1\n",
    "    print(index)"
   ]
  },
  {
   "cell_type": "code",
   "execution_count": null,
   "metadata": {
    "collapsed": false
   },
   "outputs": [],
   "source": [
    "courses"
   ]
  },
  {
   "cell_type": "code",
   "execution_count": null,
   "metadata": {
    "collapsed": true
   },
   "outputs": [],
   "source": [
    "canvasStudentImport = google_connect.importSheet(\"1801Student\")\n",
    "canvasStudentImport.drop_duplicates(inplace = True)\n",
    "canvasStudentIndexed = canvasStudentImport.set_index(['login_id'])\n",
    "\n",
    "canvasStaffImport = google_connect.importSheet(\"1801Staff\")\n",
    "canvasStaffImport.drop_duplicates(inplace = True)\n",
    "canvasStaffIndexed = canvasStaffImport.set_index(['login_id'])\n",
    "canvasStaffandStudentsIndexed = google_connect.pd.concat([canvasStudentIndexed, canvasStaffIndexed], axis=0)\n",
    "\n"
   ]
  },
  {
   "cell_type": "code",
   "execution_count": null,
   "metadata": {
    "collapsed": false
   },
   "outputs": [],
   "source": [
    "canvasStaffandStudentsIndexed.loc[9195653]['user_id']"
   ]
  },
  {
   "cell_type": "code",
   "execution_count": null,
   "metadata": {
    "collapsed": false
   },
   "outputs": [],
   "source": [
    "csv_creation.createCSVsCoursesEnrollmentsTerms('Import2Canvas143 H Sherman', 143)"
   ]
  },
  {
   "cell_type": "code",
   "execution_count": null,
   "metadata": {
    "collapsed": false
   },
   "outputs": [],
   "source": [
    "csv_creation.testprint('Hello')"
   ]
  },
  {
   "cell_type": "code",
   "execution_count": null,
   "metadata": {
    "collapsed": false
   },
   "outputs": [],
   "source": [
    "createCSVsCoursesEnrollmentsTerms('Import2Canvas143 H Sherman', 143)"
   ]
  },
  {
   "cell_type": "code",
   "execution_count": null,
   "metadata": {
    "collapsed": false
   },
   "outputs": [],
   "source": [
    "createCSVsCoursesEnrollmentsTermsVert('Import2Canvas143 V Sherman', 143)"
   ]
  },
  {
   "cell_type": "code",
   "execution_count": null,
   "metadata": {
    "collapsed": true
   },
   "outputs": [],
   "source": [
    "def enrollmentsDF(workbookName):\n",
    "    \"\"\"\n",
    "    Inputs: Name of a Google Spreadsheet that has been shared with the account whose Oauth Credentials are used in this script.\n",
    "        \n",
    "    Variables needed for this function:\n",
    "    Global Variables:\n",
    "    lowercaseColumnNames: this contains a list of the column names from the imported Google spreadsheet where all letters \n",
    "    are converted to lowercase\n",
    "    columnsEnrollmentCSV: list of the column names needed for the Canvas import\n",
    "    \n",
    "    Helper Functions:\n",
    "    importSheet()\n",
    "    \n",
    "    Returns: dataframe called enrollments\n",
    "    \n",
    "    \"\"\"\n",
    "    index = 0\n",
    "    importedGoogleSheet = importSheet(workbookName)\n",
    "    #Next two lines make the columns names all lowercase\n",
    "    lowercaseColumnNames = [x.lower() for x in importedGoogleSheet.columns.values]\n",
    "    importedGoogleSheet.columns = lowercaseColumnNames\n",
    "    \n",
    "    #lowercaseColumnNames = importedGoogleSheet.columns\n",
    "    #create an empty dataframe based on the required columns for a Canvas csv.\n",
    "    enrollments = pd.DataFrame(data=np.zeros((0,len(columnsEnrollmentCSV))), columns=columnsEnrollmentCSV)\n",
    "        \n",
    "    #For enrollments to be created for a course, the course must have a name given in the Google spreadsheet. \n",
    "    #Next line checks for blank course names.\n",
    "    while index < len(importedGoogleSheet.index) and importedGoogleSheet.course_name[index] != '':\n",
    "        #Three sections of code to add principals (which get added as teachers), teachers, and then students\n",
    "        #The range for each section is based on the number of columns in the original google sheet\n",
    "        #Each section has a loop that goes through possible column names that might be in the Google spreadsheet\n",
    "            #The first if determines if a column name exists in the Google spreadsheet.\n",
    "                #The second if checks to make sure that that row has a person in that column \n",
    "                #A new row is added to the enrollments dataframe if both conditions are met for the possible column names\n",
    "        \n",
    "        for x in range(1,len(importedGoogleSheet.columns)):\n",
    "            possibleColumnName = \"principal\" + str(x)\n",
    "            if possibleColumnName in lowercaseColumnNames and importedGoogleSheet.loc[index,possibleColumnName] != '':\n",
    "                sis_id = find_sis_user_id(importedGoogleSheet.loc[index,possibleColumnName])\n",
    "                if sis_id != 'Unknown':\n",
    "                    enrollments = enrollments.append({'course_id':importedGoogleSheet.loc[index,\"course_id\"],\n",
    "                                                      'user_id':sis_id,'role':'Teacher',  'status':'active'},ignore_index=True)\n",
    "                else:\n",
    "                    enrollments = enrollments.append({'course_id':importedGoogleSheet.loc[index,\"course_id\"],\n",
    "                                                          'user_id':999998,'role':'Student',  'status':'active'},ignore_index=True)\n",
    "        \n",
    "        for x in range(1,len(importedGoogleSheet.columns)):\n",
    "            possibleColumnName = \"teacher\" + str(x)\n",
    "            if possibleColumnName in lowercaseColumnNames and importedGoogleSheet.loc[index,possibleColumnName] != '':\n",
    "                sis_id = find_sis_user_id(importedGoogleSheet.loc[index,possibleColumnName])\n",
    "                if sis_id != 'Unknown':\n",
    "                    enrollments = enrollments.append({'course_id':importedGoogleSheet.loc[index,\"course_id\"],\n",
    "                                                      'user_id':sis_id,\n",
    "                                                      'role':'Teacher',  \n",
    "                                                      'status':'active'},\n",
    "                                                     ignore_index=True)\n",
    "                else:\n",
    "                    enrollments = enrollments.append({'course_id':importedGoogleSheet.loc[index,\"course_id\"],\n",
    "                                                          'user_id':999998,\n",
    "                                                      'role':'Student',\n",
    "                                                      'status':'active'},\n",
    "                                                     ignore_index=True)\n",
    "        \n",
    "        for x in range(1,len(importedGoogleSheet.columns)):\n",
    "            possibleColumnName = \"student\" + str(x)\n",
    "            if possibleColumnName in lowercaseColumnNames and importedGoogleSheet.loc[index,possibleColumnName] != '':\n",
    "                sis_id = find_sis_user_id(importedGoogleSheet.loc[index,possibleColumnName])\n",
    "                if sis_id != 'Unknown':\n",
    "                    enrollments = enrollments.append({'course_id':importedGoogleSheet.loc[index,\"course_id\"],\n",
    "                                                      'user_id':sis_id,'role':'Student',  'status':'active'},ignore_index=True)\n",
    "                else:\n",
    "                    enrollments = enrollments.append({'course_id':importedGoogleSheet.loc[index,\"course_id\"],\n",
    "                                                          'user_id':999998,'role':'Student',  'status':'active'},ignore_index=True)\n",
    "        \n",
    "        #index counter takes us through each row of the dataframe\n",
    "        index +=1\n",
    "    \n",
    "    \n",
    "    return enrollments"
   ]
  },
  {
   "cell_type": "code",
   "execution_count": null,
   "metadata": {
    "collapsed": false
   },
   "outputs": [],
   "source": [
    "enrollmentsDF('Import2Canvas143 H Sherman')"
   ]
  },
  {
   "cell_type": "code",
   "execution_count": null,
   "metadata": {
    "collapsed": true
   },
   "outputs": [],
   "source": []
  },
  {
   "cell_type": "code",
   "execution_count": null,
   "metadata": {
    "collapsed": true
   },
   "outputs": [],
   "source": []
  },
  {
   "cell_type": "code",
   "execution_count": null,
   "metadata": {
    "collapsed": true
   },
   "outputs": [],
   "source": []
  },
  {
   "cell_type": "code",
   "execution_count": null,
   "metadata": {
    "collapsed": true
   },
   "outputs": [],
   "source": []
  },
  {
   "cell_type": "code",
   "execution_count": null,
   "metadata": {
    "collapsed": true
   },
   "outputs": [],
   "source": []
  },
  {
   "cell_type": "code",
   "execution_count": null,
   "metadata": {
    "collapsed": true
   },
   "outputs": [],
   "source": []
  },
  {
   "cell_type": "code",
   "execution_count": null,
   "metadata": {
    "collapsed": true
   },
   "outputs": [],
   "source": []
  },
  {
   "cell_type": "code",
   "execution_count": null,
   "metadata": {
    "collapsed": false
   },
   "outputs": [],
   "source": [
    "from csv_creation import *\n",
    "from google_connect import *\n",
    "from config import *\n",
    "from canvas_api import *\n",
    "import pandas as pd\n",
    "import numpy as np\n",
    "import json\n",
    "import csv\n",
    "\n",
    "def enrollmentsVertDF(workbookName):\n",
    "    \"\"\"\n",
    "    Inputs: Name of a Google Spreadsheet that has been shared with the account whose Oauth Credentials are used in this script.\n",
    "        \n",
    "    Variables needed for this function:\n",
    "    Global Variables:\n",
    "    lowercaseColumnNames: this contains a list of the column names from the imported Google spreadsheet where all letters \n",
    "    are converted to lowercase\n",
    "    columnsEnrollmentCSV: list of the column names needed for the Canvas import\n",
    "    \n",
    "    Helper Functions:\n",
    "    importSheet()\n",
    "    \n",
    "    Returns: dataframe called enrollments\n",
    "    \n",
    "    \"\"\"\n",
    "    index = 0\n",
    "    importedGoogleSheet = importSheet(workbookName)\n",
    "    importedGoogleSheet['Course_ID'] = importedGoogleSheet['Course_ID'].str.lower()\n",
    "    importedGoogleSheet = importedGoogleSheet.set_index('Course_ID')\n",
    "    \n",
    "    index = 0\n",
    "    lowercaseRowNames = importedGoogleSheet.index.values.tolist()\n",
    "    #lowercaseColumnNames = importedGoogleSheet.columns\n",
    "    #create an empty dataframe based on the required columns for a Canvas csv.\n",
    "    enrollments = pd.DataFrame(data=np.zeros((0,len(columnsEnrollmentCSV))), columns=columnsEnrollmentCSV)\n",
    "        \n",
    "    #For enrollments to be created for a course, the course must have a name given in the Google spreadsheet. \n",
    "    #Next line checks for blank course names.\n",
    "    for course in importedGoogleSheet.columns:\n",
    "        if importedGoogleSheet.loc['course_name',course] != '':\n",
    "            for x in range(1,len(importedGoogleSheet.index.values.tolist())):\n",
    "                possibleRowName = \"principal\" + str(x)\n",
    "                if possibleRowName in lowercaseRowNames and importedGoogleSheet.loc[possibleRowName,course] != '':\n",
    "                    sis_id = find_sis_user_id(importedGoogleSheet.loc[possibleRowName,course])\n",
    "                    \n",
    "                    if sis_id != 'Unknown':\n",
    "                        enrollments = enrollments.append({'course_id':course,\n",
    "                                                          'user_id':sis_id,'role':'Teacher',\n",
    "                                                          'status':'active'},\n",
    "                                                         ignore_index=True)\n",
    "                    else:\n",
    "                        enrollments = enrollments.append({'course_id':course,\n",
    "                                                          'user_id':999998,'role':'Student',\n",
    "                                                          'status':'active'},\n",
    "                                                         ignore_index=True)  \n",
    "    \n",
    "    for course in importedGoogleSheet.columns:\n",
    "        if importedGoogleSheet.loc['course_name',course] != '':\n",
    "            for x in range(1,len(importedGoogleSheet.index.values.tolist())):\n",
    "                possibleRowName = \"teacher\" + str(x)\n",
    "                if possibleRowName in lowercaseRowNames and importedGoogleSheet.loc[possibleRowName,course] != '':\n",
    "                    sis_id = find_sis_user_id(importedGoogleSheet.loc[possibleRowName,course])\n",
    "                    \n",
    "                    if sis_id != 'Unknown':\n",
    "                        enrollments = enrollments.append({'course_id':course,\n",
    "                                                          'user_id':sis_id,'role':'Teacher',\n",
    "                                                          'status':'active'},\n",
    "                                                         ignore_index=True)\n",
    "                    else:\n",
    "                        enrollments = enrollments.append({'course_id':course,\n",
    "                                                          'user_id':999998,'role':'Student',\n",
    "                                                          'status':'active'},\n",
    "                                                         ignore_index=True)  \n",
    "    \n",
    "    \n",
    "    for course in importedGoogleSheet.columns:\n",
    "        if importedGoogleSheet.loc['course_name',course] != '':\n",
    "            for x in range(1,len(importedGoogleSheet.index.values.tolist())):\n",
    "                possibleRowName = \"student\" + str(x)\n",
    "                if possibleRowName in lowercaseRowNames and importedGoogleSheet.loc[possibleRowName,course] != '':\n",
    "                    sis_id = find_sis_user_id(importedGoogleSheet.loc[possibleRowName,course])\n",
    "                    \n",
    "                    if sis_id != 'Unknown':\n",
    "                        enrollments = enrollments.append({'course_id':course,\n",
    "                                                          'user_id':sis_id,'role':'Student',\n",
    "                                                          'status':'active'},\n",
    "                                                         ignore_index=True)\n",
    "                    else:\n",
    "                        enrollments = enrollments.append({'course_id':course,\n",
    "                                                          'user_id':999998,'role':'Student',\n",
    "                                                          'status':'active'},\n",
    "                                                         ignore_index=True)  \n",
    "    \n",
    "    return enrollments\n",
    "\n",
    "\n",
    "\n",
    "\n",
    "print(\"Done\")"
   ]
  },
  {
   "cell_type": "code",
   "execution_count": null,
   "metadata": {
    "collapsed": true
   },
   "outputs": [],
   "source": []
  },
  {
   "cell_type": "code",
   "execution_count": null,
   "metadata": {
    "collapsed": true
   },
   "outputs": [],
   "source": []
  },
  {
   "cell_type": "code",
   "execution_count": null,
   "metadata": {
    "collapsed": true
   },
   "outputs": [],
   "source": []
  },
  {
   "cell_type": "code",
   "execution_count": null,
   "metadata": {
    "collapsed": true
   },
   "outputs": [],
   "source": []
  },
  {
   "cell_type": "code",
   "execution_count": null,
   "metadata": {
    "collapsed": false
   },
   "outputs": [],
   "source": [
    "enrollmentsVertDF('Import2Canvas143 V Sherman')"
   ]
  },
  {
   "cell_type": "code",
   "execution_count": null,
   "metadata": {
    "collapsed": true
   },
   "outputs": [],
   "source": []
  },
  {
   "cell_type": "code",
   "execution_count": null,
   "metadata": {
    "collapsed": true
   },
   "outputs": [],
   "source": []
  },
  {
   "cell_type": "code",
   "execution_count": null,
   "metadata": {
    "collapsed": true
   },
   "outputs": [],
   "source": []
  },
  {
   "cell_type": "code",
   "execution_count": null,
   "metadata": {
    "collapsed": true
   },
   "outputs": [],
   "source": []
  },
  {
   "cell_type": "code",
   "execution_count": null,
   "metadata": {
    "collapsed": false
   },
   "outputs": [],
   "source": [
    "importedGoogleSheet = importSheet('Import2Canvas143 V Sherman')\n",
    "importedGoogleSheet['Course_ID'] = importedGoogleSheet['Course_ID'].str.lower()\n",
    "index = 0\n",
    "importedGoogleSheet = importedGoogleSheet.set_index('Course_ID')\n",
    "lowercaseRowNames = importedGoogleSheet.index.values.tolist()\n",
    "enrollments = pd.DataFrame(data=np.zeros((0,len(columnsEnrollmentCSV))), columns=columnsEnrollmentCSV)\n"
   ]
  },
  {
   "cell_type": "code",
   "execution_count": null,
   "metadata": {
    "collapsed": false
   },
   "outputs": [],
   "source": [
    "enrollments = pd.DataFrame(data=np.zeros((0,len(columnsEnrollmentCSV))), columns=columnsEnrollmentCSV)\n",
    "for course in importedGoogleSheet.columns:\n",
    "        if importedGoogleSheet.loc['course_name',course] != '':\n",
    "            for x in range(1,len(importedGoogleSheet.index.values.tolist())):\n",
    "                possibleRowName = \"principal\" + str(x)\n",
    "                if possibleRowName in lowercaseRowNames and importedGoogleSheet.loc[possibleRowName,course] != '':\n",
    "                    sis_id = find_sis_user_id(importedGoogleSheet.loc[possibleRowName,course])\n",
    "                    print(sis_id)\n",
    "                    if sis_id != 'Unknown':\n",
    "                        enrollments = enrollments.append({'course_id':course,\n",
    "                                                          'user_id':sis_id,'role':'Teacher',\n",
    "                                                          'status':'active'},\n",
    "                                                         ignore_index=True)\n",
    "                    else:\n",
    "                        enrollments = enrollments.append({'course_id':course,\n",
    "                                                          'user_id':999998,'role':'Student',\n",
    "                                                          'status':'active'},\n",
    "                                                         ignore_index=True)  \n"
   ]
  },
  {
   "cell_type": "code",
   "execution_count": null,
   "metadata": {
    "collapsed": false
   },
   "outputs": [],
   "source": [
    "enrollments"
   ]
  },
  {
   "cell_type": "code",
   "execution_count": null,
   "metadata": {
    "collapsed": true
   },
   "outputs": [],
   "source": []
  },
  {
   "cell_type": "code",
   "execution_count": null,
   "metadata": {
    "collapsed": true
   },
   "outputs": [],
   "source": []
  },
  {
   "cell_type": "code",
   "execution_count": null,
   "metadata": {
    "collapsed": false
   },
   "outputs": [],
   "source": [
    "enrollmentsVertDF('Import2Canvas143 V Sherman')\n"
   ]
  },
  {
   "cell_type": "code",
   "execution_count": null,
   "metadata": {
    "collapsed": false
   },
   "outputs": [],
   "source": [
    "accountID = 7\n",
    "for course in importedGoogleSheet.columns:\n",
    "    if importedGoogleSheet.loc['course_name',course] != '':\n",
    "        courses = courses.append({'course_id': course,\n",
    "                                      'long_name':importedGoogleSheet.loc['course_name',course],\n",
    "                                      'short_name':importedGoogleSheet.loc['course_name',course], \n",
    "                                      'account_id':accountID, 'status':'active'},ignore_index=True)\n",
    "print(courses)        \n"
   ]
  },
  {
   "cell_type": "code",
   "execution_count": null,
   "metadata": {
    "collapsed": false
   },
   "outputs": [],
   "source": [
    "importedGoogleSheet = importSheet('Import2Canvas143 H Sherman')\n",
    "importedGoogleSheet\n",
    "lowercaseColumnNames = [x.lower() for x in importedGoogleSheet.columns.values]\n",
    "importedGoogleSheet.columns = lowercaseColumnNames\n",
    "importedGoogleSheet"
   ]
  },
  {
   "cell_type": "code",
   "execution_count": null,
   "metadata": {
    "collapsed": false
   },
   "outputs": [],
   "source": [
    "for course in importedGoogleSheet.columns:\n",
    "    print (course)"
   ]
  },
  {
   "cell_type": "code",
   "execution_count": null,
   "metadata": {
    "collapsed": false
   },
   "outputs": [],
   "source": [
    "importedGoogleSheet = importSheet('Import2Canvas143 V Sherman')\n",
    "importedGoogleSheet['Course_ID'] = importedGoogleSheet['Course_ID'].str.lower()\n",
    "importedGoogleSheet = importedGoogleSheet.set_index('Course_ID')\n"
   ]
  },
  {
   "cell_type": "code",
   "execution_count": null,
   "metadata": {
    "collapsed": false
   },
   "outputs": [],
   "source": [
    "for course in importedGoogleSheet.columns:\n",
    "    print (course)"
   ]
  },
  {
   "cell_type": "code",
   "execution_count": null,
   "metadata": {
    "collapsed": false
   },
   "outputs": [],
   "source": []
  },
  {
   "cell_type": "code",
   "execution_count": null,
   "metadata": {
    "collapsed": true
   },
   "outputs": [],
   "source": []
  },
  {
   "cell_type": "code",
   "execution_count": null,
   "metadata": {
    "collapsed": false
   },
   "outputs": [],
   "source": []
  },
  {
   "cell_type": "code",
   "execution_count": null,
   "metadata": {
    "collapsed": true
   },
   "outputs": [],
   "source": []
  },
  {
   "cell_type": "code",
   "execution_count": null,
   "metadata": {
    "collapsed": true
   },
   "outputs": [],
   "source": []
  },
  {
   "cell_type": "code",
   "execution_count": null,
   "metadata": {
    "collapsed": true
   },
   "outputs": [],
   "source": []
  },
  {
   "cell_type": "code",
   "execution_count": null,
   "metadata": {
    "collapsed": true
   },
   "outputs": [],
   "source": []
  },
  {
   "cell_type": "code",
   "execution_count": null,
   "metadata": {
    "collapsed": true
   },
   "outputs": [],
   "source": []
  },
  {
   "cell_type": "code",
   "execution_count": null,
   "metadata": {
    "collapsed": true
   },
   "outputs": [],
   "source": []
  },
  {
   "cell_type": "code",
   "execution_count": null,
   "metadata": {
    "collapsed": true
   },
   "outputs": [],
   "source": []
  },
  {
   "cell_type": "code",
   "execution_count": null,
   "metadata": {
    "collapsed": true
   },
   "outputs": [],
   "source": []
  },
  {
   "cell_type": "code",
   "execution_count": null,
   "metadata": {
    "collapsed": false
   },
   "outputs": [],
   "source": [
    "import run_canvas_import"
   ]
  },
  {
   "cell_type": "code",
   "execution_count": null,
   "metadata": {
    "collapsed": false
   },
   "outputs": [],
   "source": [
    "import run_all_Canvas_imports"
   ]
  },
  {
   "cell_type": "code",
   "execution_count": null,
   "metadata": {
    "collapsed": false
   },
   "outputs": [],
   "source": [
    "from canvas_api import *\n",
    "from config import *\n",
    "import json\n",
    "import zipfile\n",
    "find_sis_user_id(9195654)\n"
   ]
  },
  {
   "cell_type": "code",
   "execution_count": null,
   "metadata": {
    "collapsed": true
   },
   "outputs": [],
   "source": []
  },
  {
   "cell_type": "code",
   "execution_count": null,
   "metadata": {
    "collapsed": true
   },
   "outputs": [],
   "source": []
  },
  {
   "cell_type": "code",
   "execution_count": null,
   "metadata": {
    "collapsed": true
   },
   "outputs": [],
   "source": []
  },
  {
   "cell_type": "code",
   "execution_count": null,
   "metadata": {
    "collapsed": true
   },
   "outputs": [],
   "source": []
  },
  {
   "cell_type": "code",
   "execution_count": null,
   "metadata": {
    "collapsed": true
   },
   "outputs": [],
   "source": []
  },
  {
   "cell_type": "code",
   "execution_count": null,
   "metadata": {
    "collapsed": true
   },
   "outputs": [],
   "source": []
  },
  {
   "cell_type": "code",
   "execution_count": null,
   "metadata": {
    "collapsed": true
   },
   "outputs": [],
   "source": []
  },
  {
   "cell_type": "code",
   "execution_count": null,
   "metadata": {
    "collapsed": true
   },
   "outputs": [],
   "source": []
  },
  {
   "cell_type": "code",
   "execution_count": null,
   "metadata": {
    "collapsed": false
   },
   "outputs": [],
   "source": [
    "import zipfile\n",
    "canvasZipfile = zipfile.ZipFile('{csvExportLocation}courses.zip'.format(csvExportLocation = csvExportLocation), 'w')\n",
    "    \n",
    "canvasZipfile.write('{csvExportLocation}enrollments.csv'.format(csvExportLocation = csvExportLocation),\n",
    "                    'courses.zip', compress_type=zipfile.ZIP_DEFLATED)\n",
    "canvasZipfile.close()"
   ]
  },
  {
   "cell_type": "code",
   "execution_count": null,
   "metadata": {
    "collapsed": false
   },
   "outputs": [],
   "source": [
    "createZip()\n"
   ]
  },
  {
   "cell_type": "code",
   "execution_count": null,
   "metadata": {
    "collapsed": false
   },
   "outputs": [],
   "source": [
    "import zipfile\n",
    "import os\n",
    "fn = os.path.join(os.path.dirname(__file__), 'my_file')\n",
    "csvExportLocation = \"X:/Inbox/\"\n",
    "#canvasZipfile = zipfile.ZipFile('{csvExportLocation}courses.zip'.format(csvExportLocation = csvExportLocation), 'w')\n",
    "#canvasZipfile.write('{csvExportLocation}courses.csv'.format(csvExportLocation = csvExportLocation), compress_type=zipfile.ZIP_DEFLATED)\n",
    "canvasZipfile = zipfile.ZipFile('../CSVFiles/courses2.zip'.format(csvExportLocation = csvExportLocation), 'w')\n",
    "canvasZipfile.write('../CSVFiles/courses.csv', compress_type=zipfile.ZIP_DEFLATED)\n",
    "#canvasZipfile.write('enrollments.csv', compress_type=zipfile.ZIP_DEFLATED)\n",
    "\n",
    "canvasZipfile.close()"
   ]
  },
  {
   "cell_type": "code",
   "execution_count": null,
   "metadata": {
    "collapsed": true
   },
   "outputs": [],
   "source": [
    "canvasZipfile.close()"
   ]
  },
  {
   "cell_type": "code",
   "execution_count": null,
   "metadata": {
    "collapsed": false
   },
   "outputs": [],
   "source": [
    "       \n"
   ]
  },
  {
   "cell_type": "code",
   "execution_count": null,
   "metadata": {
    "collapsed": false
   },
   "outputs": [],
   "source": []
  },
  {
   "cell_type": "code",
   "execution_count": null,
   "metadata": {
    "collapsed": false
   },
   "outputs": [],
   "source": []
  },
  {
   "cell_type": "code",
   "execution_count": null,
   "metadata": {
    "collapsed": false
   },
   "outputs": [],
   "source": []
  },
  {
   "cell_type": "code",
   "execution_count": null,
   "metadata": {
    "collapsed": false
   },
   "outputs": [],
   "source": [
    "#config.py file\n",
    "\n",
    "import google_connect\n",
    "import csv_creation\n",
    "\n",
    "#Requires Python 3\n",
    "\n",
    "#You will need to obtain a Google Secrets file as a json file. Please place this in the Tokens folder.\n",
    "#It is best practice to use a service Google account\n",
    "#Directions on obtaining that file can be found at http://pbpython.com/pandas-google-forms-part1.html\n",
    "\n",
    "#These lines import some spreadsheets from Google that are imported from Skyward each day.\n",
    "#The imports first get a student list and then a staff list and then removed duplicates\n",
    "#The two dataframes are then combined into one so that any lookups of the student user_id can be made from one dataframe\n",
    "canvasStudentImport = importSheet(\"1801Student\")\n",
    "canvasStudentImport.drop_duplicates(inplace = True)\n",
    "canvasStudentIndexed = canvasStudentImport.set_index(['login_id'])\n",
    "\n",
    "canvasStaffImport = importSheet(\"1801Staff\")\n",
    "canvasStaffImport.drop_duplicates(inplace = True)\n",
    "canvasStaffIndexed = canvasStaffImport.set_index(['login_id'])\n",
    "\n",
    "\n",
    "\n",
    "canvasStaffandStudentsIndexed = pd.concat([canvasStudentIndexed, canvasStaffIndexed], axis=0)"
   ]
  }
 ],
 "metadata": {
  "kernelspec": {
   "display_name": "Python 3",
   "language": "python",
   "name": "python3"
  },
  "language_info": {
   "codemirror_mode": {
    "name": "ipython",
    "version": 3
   },
   "file_extension": ".py",
   "mimetype": "text/x-python",
   "name": "python",
   "nbconvert_exporter": "python",
   "pygments_lexer": "ipython3",
   "version": "3.4.3"
  }
 },
 "nbformat": 4,
 "nbformat_minor": 0
}
